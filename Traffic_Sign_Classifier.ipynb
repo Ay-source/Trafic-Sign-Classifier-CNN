{
 "cells": [
  {
   "cell_type": "markdown",
   "metadata": {},
   "source": [
    "# Self-Driving Car Engineer Nanodegree\n",
    "\n",
    "## Deep Learning\n",
    "\n",
    "## Project: Build a Traffic Sign Recognition Classifier\n",
    "\n",
    "In this notebook, a template is provided for you to implement your functionality in stages, which is required to successfully complete this project. If additional code is required that cannot be included in the notebook, be sure that the Python code is successfully imported and included in your submission if necessary. \n",
    "\n",
    "> **Note**: Once you have completed all of the code implementations, you need to finalize your work by exporting the iPython Notebook as an HTML document. Before exporting the notebook to html, all of the code cells need to have been run so that reviewers can see the final implementation and output. You can then export the notebook by using the menu above and navigating to  \\n\",\n",
    "    \"**File -> Download as -> HTML (.html)**. Include the finished document along with this notebook as your submission. \n",
    "\n",
    "In addition to implementing code, there is a writeup to complete. The writeup should be completed in a separate file, which can be either a markdown file or a pdf document. There is a [write up template](https://github.com/udacity/CarND-Traffic-Sign-Classifier-Project/blob/master/writeup_template.md) that can be used to guide the writing process. Completing the code template and writeup template will cover all of the [rubric points](https://review.udacity.com/#!/rubrics/481/view) for this project.\n",
    "\n",
    "The [rubric](https://review.udacity.com/#!/rubrics/481/view) contains \"Stand Out Suggestions\" for enhancing the project beyond the minimum requirements. The stand out suggestions are optional. If you decide to pursue the \"stand out suggestions\", you can include the code in this Ipython notebook and also discuss the results in the writeup file.\n",
    "\n",
    "\n",
    ">**Note:** Code and Markdown cells can be executed using the **Shift + Enter** keyboard shortcut. In addition, Markdown cells can be edited by typically double-clicking the cell to enter edit mode."
   ]
  },
  {
   "cell_type": "markdown",
   "metadata": {},
   "source": [
    "---\n",
    "## Step 0: Load The Data"
   ]
  },
  {
   "cell_type": "code",
   "execution_count": 1,
   "metadata": {
    "collapsed": false,
    "jupyter": {
     "outputs_hidden": false
    }
   },
   "outputs": [],
   "source": [
    "# Load pickled data\n",
    "import pickle\n",
    "from tensorflow.keras.utils import to_categorical\n",
    "from sklearn.utils import shuffle\n",
    "import numpy as np\n",
    "import math\n",
    "import matplotlib.pyplot as plt\n",
    "\n",
    "# TODO: Fill this in based on where you saved the training and testing data\n",
    "\n",
    "training_file = \"./data/train.p\"\n",
    "validation_file=\"./data/valid.p\"\n",
    "testing_file = \"./data/test.p\"\n",
    "aug_file = \"./data/aug.p\"\n",
    "\n",
    "with open(training_file, mode='rb') as f:\n",
    "    train = pickle.load(f)\n",
    "with open(validation_file, mode='rb') as f:\n",
    "    valid = pickle.load(f)\n",
    "with open(testing_file, mode='rb') as f:\n",
    "    test = pickle.load(f)\n",
    "with open(aug_file, mode='rb') as f:\n",
    "    aug = pickle.load(f)\n",
    "\n",
    "X_train, y_train = shuffle(train['features'], train['labels'])\n",
    "X_valid, y_valid = shuffle(valid['features'], valid['labels'])\n",
    "X_test, y_test = shuffle(test['features'], test['labels'])\n",
    "X_aug, y_aug = shuffle(aug['features'], aug['labels'])\n",
    "\n",
    "X_train = np.append(X_train, X_aug, axis=0)\n",
    "y_train  = np.append(y_train, y_aug, axis=0)\n",
    "\n",
    "X_train, y_train = shuffle(X_train, y_train)\n",
    "\n",
    "y_train = y_train.astype('int32')\n",
    "y_test = y_test.astype('int32')\n",
    "y_val = y_valid.astype('int32')\n",
    "\n",
    "\n",
    "#y_train = to_categorical(y_train)\n",
    "#y_valid = to_categorical(y_valid)\n",
    "#y_test = to_categorical(y_test)"
   ]
  },
  {
   "cell_type": "code",
   "execution_count": 2,
   "metadata": {},
   "outputs": [
    {
     "data": {
      "text/plain": [
       "<matplotlib.image.AxesImage at 0x23682bea6e0>"
      ]
     },
     "execution_count": 2,
     "metadata": {},
     "output_type": "execute_result"
    },
    {
     "data": {
      "image/png": "[encoded data removed]",
      "text/plain": [
       "<Figure size 640x480 with 1 Axes>"
      ]
     },
     "metadata": {},
     "output_type": "display_data"
    }
   ],
   "source": [
    "plt.imshow(X_aug[102340])"
   ]
  },
  {
   "cell_type": "markdown",
   "metadata": {},
   "source": [
    "---\n",
    "\n",
    "## Step 1: Dataset Summary & Exploration\n",
    "\n",
    "The pickled data is a dictionary with 4 key/value pairs:\n",
    "\n",
    "- `'features'` is a 4D array containing raw pixel data of the traffic sign images, (num examples, width, height, channels).\n",
    "- `'labels'` is a 1D array containing the label/class id of the traffic sign. The file `signnames.csv` contains id -> name mappings for each id.\n",
    "- `'sizes'` is a list containing tuples, (width, height) representing the original width and height the image.\n",
    "- `'coords'` is a list containing tuples, (x1, y1, x2, y2) representing coordinates of a bounding box around the sign in the image. **THESE COORDINATES ASSUME THE ORIGINAL IMAGE. THE PICKLED DATA CONTAINS RESIZED VERSIONS (32 by 32) OF THESE IMAGES**\n",
    "\n",
    "Complete the basic data summary below. Use python, numpy and/or pandas methods to calculate the data summary rather than hard coding the results. For example, the [pandas shape method](http://pandas.pydata.org/pandas-docs/stable/generated/pandas.DataFrame.shape.html) might be useful for calculating some of the summary results. "
   ]
  },
  {
   "cell_type": "markdown",
   "metadata": {},
   "source": [
    "### Provide a Basic Summary of the Data Set Using Python, Numpy and/or Pandas"
   ]
  },
  {
   "cell_type": "code",
   "execution_count": 3,
   "metadata": {},
   "outputs": [
    {
     "name": "stdout",
     "output_type": "stream",
     "text": [
      "Number of training examples = 382789\n",
      "Number of testing examples = 12630\n",
      "Image data shape = (382789, 32, 32, 3)\n",
      "Number of classes = 43\n"
     ]
    }
   ],
   "source": [
    "### Replace each question mark with the appropriate value. \n",
    "### Use python, pandas or numpy methods rather than hard coding the results\n",
    "\n",
    "# TODO: Number of training examples\n",
    "n_train = len(X_train)\n",
    "\n",
    "# TODO: Number of validation examples\n",
    "n_validation = len(X_valid)\n",
    "\n",
    "# TODO: Number of testing examples.\n",
    "n_test = len(X_test)\n",
    "\n",
    "# TODO: What's the shape of a traffic sign image?\n",
    "image_shape = X_train.shape\n",
    "\n",
    "# TODO: How many unique classes/labels there are in the dataset.\n",
    "n_classes = 43\n",
    "\n",
    "print(\"Number of training examples =\", n_train)\n",
    "print(\"Number of testing examples =\", n_test)\n",
    "print(\"Image data shape =\", image_shape)\n",
    "print(\"Number of classes =\", n_classes)"
   ]
  },
  {
   "cell_type": "markdown",
   "metadata": {},
   "source": [
    "### Include an exploratory visualization of the dataset"
   ]
  },
  {
   "cell_type": "markdown",
   "metadata": {},
   "source": [
    "Visualize the German Traffic Signs Dataset using the pickled file(s). This is open ended, suggestions include: plotting traffic sign images, plotting the count of each sign, etc. \n",
    "\n",
    "The [Matplotlib](http://matplotlib.org/) [examples](http://matplotlib.org/examples/index.html) and [gallery](http://matplotlib.org/gallery.html) pages are a great resource for doing visualizations in Python.\n",
    "\n",
    "**NOTE:** It's recommended you start with something simple first. If you wish to do more, come back to it after you've completed the rest of the sections. It can be interesting to look at the distribution of classes in the training, validation and test set. Is the distribution the same? Are there more examples of some classes than others?"
   ]
  },
  {
   "cell_type": "code",
   "execution_count": 4,
   "metadata": {},
   "outputs": [
    {
     "data": {
      "text/plain": [
       "<matplotlib.image.AxesImage at 0x236cf4b7040>"
      ]
     },
     "execution_count": 4,
     "metadata": {},
     "output_type": "execute_result"
    },
    {
     "data": {
      "image/png": "[encoded data removed]",
      "text/plain": [
       "<Figure size 640x480 with 1 Axes>"
      ]
     },
     "metadata": {},
     "output_type": "display_data"
    }
   ],
   "source": [
    "### Data exploration visualization code goes here.\n",
    "### Feel free to use as many code cells as needed.\n",
    "import matplotlib.pyplot as plt\n",
    "#import matplotlib.pyplot as plt\n",
    "# Visualizations will be shown in the notebook.\n",
    "%matplotlib inline\n",
    "\n",
    "sample = X_train[0]\n",
    "plt.imshow(sample)"
   ]
  },
  {
   "cell_type": "markdown",
   "metadata": {},
   "source": [
    "----\n",
    "\n",
    "## Step 2: Design and Test a Model Architecture\n",
    "\n",
    "Design and implement a deep learning model that learns to recognize traffic signs. Train and test your model on the [German Traffic Sign Dataset](http://benchmark.ini.rub.de/?section=gtsrb&subsection=dataset).\n",
    "\n",
    "The LeNet-5 implementation shown in the [classroom](https://classroom.udacity.com/nanodegrees/nd013/parts/fbf77062-5703-404e-b60c-95b78b2f3f9e/modules/6df7ae49-c61c-4bb2-a23e-6527e69209ec/lessons/601ae704-1035-4287-8b11-e2c2716217ad/concepts/d4aca031-508f-4e0b-b493-e7b706120f81) at the end of the CNN lesson is a solid starting point. You'll have to change the number of classes and possibly the preprocessing, but aside from that it's plug and play! \n",
    "\n",
    "With the LeNet-5 solution from the lecture, you should expect a validation set accuracy of about 0.89. To meet specifications, the validation set accuracy will need to be at least 0.93. It is possible to get an even higher accuracy, but 0.93 is the minimum for a successful project submission. \n",
    "\n",
    "There are various aspects to consider when thinking about this problem:\n",
    "\n",
    "- Neural network architecture (is the network over or underfitting?)\n",
    "- Play around preprocessing techniques (normalization, rgb to grayscale, etc)\n",
    "- Number of examples per label (some have more than others).\n",
    "- Generate fake data.\n",
    "\n",
    "Here is an example of a [published baseline model on this problem](http://yann.lecun.com/exdb/publis/pdf/sermanet-ijcnn-11.pdf). It's not required to be familiar with the approach used in the paper but, it's good practice to try to read papers like these."
   ]
  },
  {
   "cell_type": "markdown",
   "metadata": {},
   "source": [
    "### Pre-process the Data Set (normalization, grayscale, etc.)"
   ]
  },
  {
   "cell_type": "markdown",
   "metadata": {},
   "source": [
    "Minimally, the image data should be normalized so that the data has mean zero and equal variance. For image data, `(pixel - 128)/ 128` is a quick way to approximately normalize the data and can be used in this project. \n",
    "\n",
    "Other pre-processing steps are optional. You can try different techniques to see if it improves performance. \n",
    "\n",
    "Use the code cell (or multiple code cells, if necessary) to implement the first step of your project."
   ]
  },
  {
   "cell_type": "code",
   "execution_count": 5,
   "metadata": {
    "scrolled": true
   },
   "outputs": [
    {
     "name": "stdout",
     "output_type": "stream",
     "text": [
      "(32, 32, 1)\n"
     ]
    },
    {
     "data": {
      "image/png": "[encoded data removed]",
      "text/plain": [
       "<Figure size 640x480 with 1 Axes>"
      ]
     },
     "metadata": {},
     "output_type": "display_data"
    }
   ],
   "source": [
    "### Preprocess the data here. It is required to normalize the data. Other preprocessing steps could include \n",
    "### converting to grayscale, etc.\n",
    "### Feel free to use as many code cells as needed.\n",
    "import cv2\n",
    "import numpy as np\n",
    "import tensorflow as tf\n",
    "\n",
    "\n",
    "def convert_to_grayscale(image_data):\n",
    "    gray_image = np.array([cv2.cvtColor(img, cv2.COLOR_RGB2GRAY) for img in image_data])\n",
    "    return gray_image\n",
    "\n",
    "def convert_to_yuv(image_data):\n",
    "    #yuv_image = np.zeros((image_data.shape[0], image_data.shape[1], image_data.shape[2], 3))\n",
    "    yuv_image = np.array([cv2.cvtColor(img, cv2.COLOR_RGB2YUV) for img in image_data])\n",
    "    return yuv_image\n",
    "\n",
    "def normalize(image_data):\n",
    "    normalized_image = (image_data - np.mean(image_data)) / np.std(image_data)\n",
    "    normalized_image = normalized_image.reshape([-1, 32, 32, 1])\n",
    "    return normalized_image\n",
    "\n",
    "def channel_extract(index, image_dataset):\n",
    "    return image_dataset[:, :, :, index]\n",
    "    #for i in range(len(image_dataset)):\n",
    "    #    extracted_channel.append(image_dataset[i][:, :, index])\n",
    "    #return np.array(extracted_channel).reshape([-1, 32, 32, 1])\n",
    "\n",
    "\n",
    "#X_train = convert_to_grayscale(X_train)\n",
    "#X_valid = convert_to_grayscale(X_valid)\n",
    "#X_test = convert_to_grayscale(X_test)\n",
    "\n",
    "X_train = convert_to_yuv(X_train)\n",
    "X_valid = convert_to_yuv(X_valid)\n",
    "X_test = convert_to_yuv(X_test)\n",
    "\n",
    "\n",
    "X_train = channel_extract(0, X_train)\n",
    "X_valid = channel_extract(0, X_valid)\n",
    "X_test = channel_extract(0, X_test)\n",
    "\n",
    "\n",
    "X_train = normalize(X_train)\n",
    "X_valid = normalize(X_valid)\n",
    "X_test = normalize(X_test)\n",
    "\n",
    "plt.imshow(X_train[0])\n",
    "print(X_train[0].shape)\n",
    "#print(X_train[0].mean())\n",
    "#print(X_train[0])"
   ]
  },
  {
   "cell_type": "code",
   "execution_count": 6,
   "metadata": {},
   "outputs": [
    {
     "data": {
      "text/plain": [
       "<matplotlib.image.AxesImage at 0x236cfd62ce0>"
      ]
     },
     "execution_count": 6,
     "metadata": {},
     "output_type": "execute_result"
    },
    {
     "data": {
      "image/png": "[encoded data removed]",
      "text/plain": [
       "<Figure size 640x480 with 1 Axes>"
      ]
     },
     "metadata": {},
     "output_type": "display_data"
    }
   ],
   "source": [
    "plt.imshow(X_train[9870], cmap=\"gray\")#[:, :, 1])"
   ]
  },
  {
   "cell_type": "markdown",
   "metadata": {},
   "source": [
    "### Model Architecture"
   ]
  },
  {
   "cell_type": "code",
   "execution_count": 20,
   "metadata": {},
   "outputs": [],
   "source": [
    "# Definig Variables\n",
    "\n",
    "learning_rate = 0.001 #0.001\n",
    "epochs = 50\n",
    "batch_size = 256 #128\n",
    "keep_prob = 0.5"
   ]
  },
  {
   "cell_type": "code",
   "execution_count": 21,
   "metadata": {},
   "outputs": [],
   "source": [
    "### Define your architecture here.\n",
    "### Feel free to use as many code cells as needed.\n",
    "class Traffic_sign_Conv_Model(tf.Module):\n",
    "    def __init__(self):\n",
    "        mu = 0\n",
    "        sigma = 0.01\n",
    "        # Defining Weights\n",
    "\n",
    "        # Convolutional layers\n",
    "        self.conv1 = tf.Variable(tf.random.normal([5, 5, 1, 16], mean=mu, stddev=sigma), name=\"conv1\")\n",
    "        self.conv2 = tf.Variable(tf.random.normal([5, 5, 16, 32], mean=mu, stddev=sigma), name=\"conv2\")\n",
    "        self.conv3 = tf.Variable(tf.random.normal([5, 5, 32, 64], mean=mu, stddev=sigma), name=\"conv3\")\n",
    "        \n",
    "        # Fully Convolutional Layers\n",
    "        self.fc1 = tf.Variable(tf.random.normal([1952, 150], mean=mu, stddev=sigma), name=\"fc1\")\n",
    "        self.fc2 = tf.Variable(tf.random.normal([150, 84], mean=mu, stddev=sigma), name=\"fc2\")\n",
    "        self.fc3 = tf.Variable(tf.random.normal([84, 43], mean=mu, stddev=sigma), name=\"fc3\")\n",
    "\n",
    "        \n",
    "        # Defining bias\n",
    "        # Convolutional Layers\n",
    "        self.bias1 = tf.Variable(tf.zeros([16]), name=\"bias1\")\n",
    "        self.bias2 = tf.Variable(tf.zeros([32]), name=\"bias2\")\n",
    "        self.bias3 = tf.Variable(tf.zeros([64]), name=\"bias3\")\n",
    "        self.bias4 = tf.Variable(tf.zeros([150]), name=\"bias4\")\n",
    "        self.bias5 = tf.Variable(tf.zeros([84]), name=\"bias5\")\n",
    "        self.bias6 = tf.Variable(tf.zeros([43]),name=\"bias6\")\n",
    "\n",
    "\n",
    "\n",
    "\n",
    "    def __call__(self, x, keep_prob):\n",
    "        \n",
    "        # Layer 1 Convolutional Layer 1 Input:32x32x1  Output: \n",
    "        x = tf.nn.conv2d(x, self.conv1, strides=[1, 1, 1, 1], padding=\"VALID\") # Input:32x32x1  Output: 28x28x6\n",
    "        x = tf.nn.bias_add(x, self.bias1)\n",
    "        x = tf.nn.relu(x)\n",
    "        x = tf.nn.max_pool(x, ksize=[1, 2, 2, 1], strides=[1, 2, 2, 1], padding=\"SAME\")\n",
    "        x = tf.nn.dropout(x, rate=1 - keep_prob)\n",
    "\n",
    "        # Layer 2 Convolutional Layer 2 Input:  Output:  \n",
    "        x = tf.nn.conv2d(x, self.conv2, strides=[1, 1, 1, 1], padding=\"VALID\") # Input:14x14x16  Output:10x10x16\n",
    "        x = tf.nn.bias_add(x, self.bias2)\n",
    "        x = tf.nn.relu(x)\n",
    "        x = pooling2 = tf.nn.max_pool(x, ksize=[1, 2, 2, 1], strides=[1, 2, 2, 1], padding=\"SAME\") # Input:10x10x16  Output:5x5x16\n",
    "        x = tf.nn.dropout(x, rate=1 - keep_prob)\n",
    "\n",
    "        # Layer 3 Convolutional Layer 3 Input: 5x5x16 Output: 3x3x80\n",
    "        x = tf.nn.conv2d(x, self.conv3, strides=[1, 1, 1, 1], padding=\"SAME\") # Input:5x5x16  Output:5x5x32\n",
    "        x = tf.nn.bias_add(x, self.bias3)\n",
    "        x = tf.nn.relu(x)\n",
    "        x = pooling3 = tf.nn.max_pool(x, ksize=[1, 2, 2, 1], strides=[1, 2, 2, 1], padding=\"SAME\") # Input:3x3x120  Output:2x2x360\n",
    "        x = tf.nn.dropout(x, rate=1 - keep_prob )\n",
    "\n",
    "        \n",
    "        # Layer 4 Flatten Layer 1 Input:3x3x80  Output:720\n",
    "        x = tf.keras.layers.Flatten()(x)\n",
    "        pooling2 = tf.keras.layers.Flatten()(pooling2)\n",
    "        pooling3 = tf.keras.layers.Flatten()(pooling3)\n",
    "\n",
    "        x = tf.concat([x, pooling2, pooling3], axis=-1)\n",
    "\n",
    "        # Layer 5 Fully Convolutional Layer 1 Input:720  Output: 400 \n",
    "        x = tf.matmul(x, self.fc1)\n",
    "        x = tf.nn.bias_add(x, self.bias4)\n",
    "        x = tf.nn.relu(x)\n",
    "\n",
    "        # Layer 6 Fully Convolutional Layer 2 Input:400  Output:150\n",
    "        x = tf.matmul(x, self.fc2)\n",
    "        x = tf.nn.bias_add(x, self.bias5)\n",
    "        x = tf.nn.relu(x)\n",
    "        x = tf.nn.dropout(x, rate=1 - keep_prob)\n",
    "\n",
    "        # Layer 7 Fully Convolutional Layer 3 Input:150  Output:43 \n",
    "        x = tf.matmul(x, self.fc3)\n",
    "        output = tf.nn.bias_add(x, self.bias6)\n",
    "\n",
    "        return output\n",
    "\n",
    "\n",
    "model = Traffic_sign_Conv_Model()"
   ]
  },
  {
   "cell_type": "markdown",
   "metadata": {},
   "source": [
    "### Train, Validate and Test the Model"
   ]
  },
  {
   "cell_type": "markdown",
   "metadata": {},
   "source": [
    "A validation set can be used to assess how well the model is performing. A low accuracy on the training and validation\n",
    "sets imply underfitting. A high accuracy on the training set but low accuracy on the validation set implies overfitting."
   ]
  },
  {
   "cell_type": "code",
   "execution_count": 22,
   "metadata": {},
   "outputs": [],
   "source": [
    "### Train your model here.\n",
    "### Calculate and report the accuracy on the training and validation set.\n",
    "### Once a final model architecture is selected, \n",
    "### the accuracy on the test set should be calculated and reported as well.\n",
    "### Feel free to use as many code cells as needed.\n",
    "def learning_rate_decay(learning_rate, epoch):\n",
    "    if epoch % 10 == 0 and epoch != 0:\n",
    "        return learning_rate * 3 * math.exp(-4)\n",
    "    return learning_rate\n",
    "\n",
    "def batches(x_data, y_data):\n",
    "    batched_data = []\n",
    "    for batch in range(0, len(x_data), batch_size):\n",
    "        batched_data.append((x_data[batch:batch+batch_size], y_data[batch:batch+batch_size]))\n",
    "    return batched_data\n",
    "\n",
    "def compute_loss(logits, labels):\n",
    "    loss = tf.reduce_mean(tf.nn.sparse_softmax_cross_entropy_with_logits(logits=logits, labels=labels))\n",
    "    return loss\n",
    "\n",
    "def compute_accuracy(logits, labels):\n",
    "    #correct_predictions = tf.equal(tf.argmax(logits, 1), tf.argmax(labels, 1))\n",
    "    correct_predictions = tf.equal(tf.argmax(logits, 1), labels)\n",
    "    accuracy = tf.reduce_mean(tf.cast(correct_predictions, tf.float32))\n",
    "    return accuracy\n",
    "\n",
    "optimizer = tf.optimizers.Adam(learning_rate)\n",
    "\n",
    "def optimization(images, labels, keep_prob, learning_rate):\n",
    "    optimizer.learning_rate.assign(learning_rate)\n",
    "    with tf.GradientTape() as tape:\n",
    "        logits = model(images, keep_prob)\n",
    "        loss = compute_loss(logits, labels)\n",
    "    gradients = tape.gradient(loss, model.trainable_variables)\n",
    "    optimizer.apply_gradients(zip(gradients, model.trainable_variables))\n",
    "    return loss"
   ]
  },
  {
   "cell_type": "markdown",
   "metadata": {},
   "source": [
    "### Training"
   ]
  },
  {
   "cell_type": "code",
   "execution_count": 23,
   "metadata": {
    "scrolled": true
   },
   "outputs": [
    {
     "name": "stdout",
     "output_type": "stream",
     "text": [
      "Epoch: 1 ...\n",
      "Batch no: 1497\n",
      "Training loss: 1.4204038\n",
      "Training accuracy: 0.65217394\n",
      "Validation Accuracy: 0.73106575\n",
      "Epoch: 2 ...\n",
      "Batch no: 2993\n",
      "Training loss: 0.7553109\n",
      "Training accuracy: 0.7826087\n",
      "Validation Accuracy: 0.8333333\n",
      "Epoch: 3 ...\n",
      "Batch no: 4489\n",
      "Training loss: 0.4795488\n",
      "Training accuracy: 0.85507244\n",
      "Validation Accuracy: 0.8929705\n",
      "Epoch: 4 ...\n",
      "Batch no: 5985\n",
      "Training loss: 0.47062096\n",
      "Training accuracy: 0.89855075\n",
      "Validation Accuracy: 0.90612245\n",
      "Epoch: 5 ...\n",
      "Batch no: 7481\n",
      "Training loss: 0.34655383\n",
      "Training accuracy: 0.9130435\n",
      "Validation Accuracy: 0.9183673\n",
      "Epoch: 6 ...\n",
      "Batch no: 8977\n",
      "Training loss: 0.30515125\n",
      "Training accuracy: 0.884058\n",
      "Validation Accuracy: 0.9185941\n",
      "Epoch: 7 ...\n",
      "Batch no: 10473\n",
      "Training loss: 0.25868624\n",
      "Training accuracy: 0.942029\n",
      "Validation Accuracy: 0.9249433\n",
      "Epoch: 8 ...\n",
      "Batch no: 11969\n",
      "Training loss: 0.27256405\n",
      "Training accuracy: 0.9130435\n",
      "Validation Accuracy: 0.9201814\n",
      "Epoch: 9 ...\n",
      "Batch no: 13465\n",
      "Training loss: 0.25785097\n",
      "Training accuracy: 0.89855075\n",
      "Validation Accuracy: 0.9287982\n",
      "Epoch: 10 ...\n",
      "Batch no: 14961\n",
      "Training loss: 0.19211666\n",
      "Training accuracy: 0.92753625\n",
      "Validation Accuracy: 0.9378685\n",
      "Epoch: 11 ...\n",
      "Batch no: 16457\n",
      "Training loss: 0.119834125\n",
      "Training accuracy: 0.9710145\n",
      "Validation Accuracy: 0.9410431\n",
      "Epoch: 12 ...\n",
      "Batch no: 17953\n",
      "Training loss: 0.15821457\n",
      "Training accuracy: 0.942029\n",
      "Validation Accuracy: 0.93877554\n",
      "Epoch: 13 ...\n",
      "Batch no: 19449\n",
      "Training loss: 0.1148499\n",
      "Training accuracy: 0.95652175\n",
      "Validation Accuracy: 0.94081634\n",
      "Epoch: 14 ...\n",
      "Batch no: 20945\n",
      "Training loss: 0.11507747\n",
      "Training accuracy: 0.92753625\n",
      "Validation Accuracy: 0.9414966\n",
      "Epoch: 15 ...\n",
      "Batch no: 22441\n",
      "Training loss: 0.1924182\n",
      "Training accuracy: 0.942029\n",
      "Validation Accuracy: 0.9412698\n",
      "Epoch: 16 ...\n",
      "Batch no: 23937\n",
      "Training loss: 0.3322754\n",
      "Training accuracy: 0.942029\n",
      "Validation Accuracy: 0.9421769\n",
      "Epoch: 17 ...\n",
      "Batch no: 25433\n",
      "Training loss: 0.19706029\n",
      "Training accuracy: 0.942029\n",
      "Validation Accuracy: 0.9410431\n",
      "Epoch: 18 ...\n",
      "Batch no: 26929\n",
      "Training loss: 0.17909217\n",
      "Training accuracy: 0.89855075\n",
      "Validation Accuracy: 0.9401361\n",
      "Epoch: 19 ...\n",
      "Batch no: 28425\n",
      "Training loss: 0.10570471\n",
      "Training accuracy: 0.9710145\n",
      "Validation Accuracy: 0.94285715\n",
      "Epoch: 20 ...\n",
      "Batch no: 29921\n",
      "Training loss: 0.059992574\n",
      "Training accuracy: 0.9710145\n",
      "Validation Accuracy: 0.94285715\n",
      "Epoch: 21 ...\n",
      "Batch no: 31417\n",
      "Training loss: 0.11552738\n",
      "Training accuracy: 0.9710145\n",
      "Validation Accuracy: 0.94376415\n",
      "Epoch: 22 ...\n",
      "Batch no: 32913\n",
      "Training loss: 0.11527563\n",
      "Training accuracy: 0.89855075\n",
      "Validation Accuracy: 0.9446712\n",
      "Epoch: 23 ...\n",
      "Batch no: 34409\n",
      "Training loss: 0.28315428\n",
      "Training accuracy: 0.98550725\n",
      "Validation Accuracy: 0.9442177\n",
      "Epoch: 24 ...\n",
      "Batch no: 35905\n",
      "Training loss: 0.12305507\n",
      "Training accuracy: 0.95652175\n",
      "Validation Accuracy: 0.94489795\n",
      "Epoch: 25 ...\n",
      "Batch no: 37401\n",
      "Training loss: 0.11352737\n",
      "Training accuracy: 0.9130435\n",
      "Validation Accuracy: 0.94399095\n",
      "Epoch: 26 ...\n",
      "Batch no: 38897\n",
      "Training loss: 0.15868601\n",
      "Training accuracy: 0.9710145\n",
      "Validation Accuracy: 0.94376415\n",
      "Epoch: 27 ...\n",
      "Batch no: 40393\n",
      "Training loss: 0.17586705\n",
      "Training accuracy: 0.92753625\n",
      "Validation Accuracy: 0.9435374\n",
      "Epoch: 28 ...\n",
      "Batch no: 41889\n",
      "Training loss: 0.08988478\n",
      "Training accuracy: 0.942029\n",
      "Validation Accuracy: 0.9442177\n",
      "Epoch: 29 ...\n",
      "Batch no: 43385\n",
      "Training loss: 0.20810899\n",
      "Training accuracy: 0.95652175\n",
      "Validation Accuracy: 0.94399095\n",
      "Epoch: 30 ...\n",
      "Batch no: 44881\n",
      "Training loss: 0.16261572\n",
      "Training accuracy: 0.942029\n",
      "Validation Accuracy: 0.94399095\n",
      "Epoch: 31 ...\n",
      "Batch no: 46377\n",
      "Training loss: 0.10953228\n",
      "Training accuracy: 0.92753625\n",
      "Validation Accuracy: 0.9442177\n",
      "Epoch: 32 ...\n",
      "Batch no: 47873\n",
      "Training loss: 0.09563678\n",
      "Training accuracy: 0.95652175\n",
      "Validation Accuracy: 0.9435374\n",
      "Epoch: 33 ...\n",
      "Batch no: 49369\n",
      "Training loss: 0.14536054\n",
      "Training accuracy: 0.95652175\n",
      "Validation Accuracy: 0.9435374\n",
      "Epoch: 34 ...\n",
      "Batch no: 50865\n",
      "Training loss: 0.10953608\n",
      "Training accuracy: 0.92753625\n",
      "Validation Accuracy: 0.9435374\n",
      "Epoch: 35 ...\n",
      "Batch no: 52361\n",
      "Training loss: 0.08435692\n",
      "Training accuracy: 0.95652175\n",
      "Validation Accuracy: 0.9433107\n",
      "Epoch: 36 ...\n",
      "Batch no: 53857\n",
      "Training loss: 0.14766243\n",
      "Training accuracy: 0.942029\n",
      "Validation Accuracy: 0.94376415\n",
      "Epoch: 37 ...\n",
      "Batch no: 55353\n",
      "Training loss: 0.07806258\n",
      "Training accuracy: 0.9710145\n",
      "Validation Accuracy: 0.9435374\n",
      "Epoch: 38 ...\n",
      "Batch no: 56849\n",
      "Training loss: 0.16600144\n",
      "Training accuracy: 0.92753625\n",
      "Validation Accuracy: 0.9433107\n",
      "Epoch: 39 ...\n",
      "Batch no: 58345\n",
      "Training loss: 0.16299862\n",
      "Training accuracy: 0.95652175\n",
      "Validation Accuracy: 0.9430839\n",
      "Epoch: 40 ...\n",
      "Batch no: 59841\n",
      "Training loss: 0.09494511\n",
      "Training accuracy: 0.9710145\n",
      "Validation Accuracy: 0.9433107\n",
      "Epoch: 41 ...\n",
      "Batch no: 61337\n",
      "Training loss: 0.09583305\n",
      "Training accuracy: 0.9710145\n",
      "Validation Accuracy: 0.9433107\n",
      "Epoch: 42 ...\n",
      "Batch no: 62833\n",
      "Training loss: 0.16672502\n",
      "Training accuracy: 0.942029\n",
      "Validation Accuracy: 0.9433107\n",
      "Epoch: 43 ...\n",
      "Batch no: 64329\n",
      "Training loss: 0.14826737\n",
      "Training accuracy: 0.942029\n",
      "Validation Accuracy: 0.9433107\n",
      "Epoch: 44 ...\n",
      "Batch no: 65825\n",
      "Training loss: 0.11802641\n",
      "Training accuracy: 0.95652175\n",
      "Validation Accuracy: 0.9433107\n",
      "Epoch: 45 ...\n",
      "Batch no: 67321\n",
      "Training loss: 0.13465114\n",
      "Training accuracy: 0.9130435\n",
      "Validation Accuracy: 0.9433107\n",
      "Epoch: 46 ...\n",
      "Batch no: 68817\n",
      "Training loss: 0.095626265\n",
      "Training accuracy: 0.95652175\n",
      "Validation Accuracy: 0.9433107\n",
      "Epoch: 47 ...\n",
      "Batch no: 70313\n",
      "Training loss: 0.15428843\n",
      "Training accuracy: 0.98550725\n",
      "Validation Accuracy: 0.9433107\n",
      "Epoch: 48 ...\n",
      "Batch no: 71809\n",
      "Training loss: 0.108697005\n",
      "Training accuracy: 0.942029\n",
      "Validation Accuracy: 0.9433107\n",
      "Epoch: 49 ...\n",
      "Batch no: 73305\n",
      "Training loss: 0.21680248\n",
      "Training accuracy: 0.95652175\n",
      "Validation Accuracy: 0.9433107\n",
      "Epoch: 50 ...\n",
      "Batch no: 74801\n",
      "Training loss: 0.11458237\n",
      "Training accuracy: 0.9710145\n",
      "Validation Accuracy: 0.9433107\n"
     ]
    }
   ],
   "source": [
    "batch_no = 1\n",
    "\n",
    "for epoch in range(epochs):\n",
    "    learning_rate = learning_rate_decay(learning_rate, epoch)\n",
    "    optimizer.learning_rate.assign(learning_rate)\n",
    "    for batches_x, batches_y in batches(X_train, y_train):\n",
    "        loss = optimization(batches_x, batches_y, keep_prob, learning_rate)\n",
    "        logits = model(batches_x, keep_prob)\n",
    "        accuracy = compute_accuracy(logits, batches_y)\n",
    "        batch_no += 1\n",
    "    print(\"Epoch:\", epoch + 1, \"...\")\n",
    "    print(\"Batch no:\", batch_no)\n",
    "    print(\"Training loss:\", loss.numpy())\n",
    "    print(\"Training accuracy:\", accuracy.numpy())\n",
    "    val_logits = model(X_valid, keep_prob=1)\n",
    "    accuracy = compute_accuracy(val_logits, y_valid)\n",
    "    print(\"Validation Accuracy:\", accuracy.numpy())"
   ]
  },
  {
   "cell_type": "markdown",
   "metadata": {},
   "source": [
    "### Validating"
   ]
  },
  {
   "cell_type": "code",
   "execution_count": 24,
   "metadata": {},
   "outputs": [
    {
     "name": "stdout",
     "output_type": "stream",
     "text": [
      "Validation Accuracy: 0.9433107\n"
     ]
    }
   ],
   "source": [
    "logits = model(X_valid, keep_prob=1)\n",
    "accuracy = compute_accuracy(logits, y_valid)\n",
    "print(\"Validation Accuracy:\", accuracy.numpy())"
   ]
  },
  {
   "cell_type": "markdown",
   "metadata": {},
   "source": [
    "### Testing"
   ]
  },
  {
   "cell_type": "code",
   "execution_count": 25,
   "metadata": {},
   "outputs": [
    {
     "name": "stdout",
     "output_type": "stream",
     "text": [
      "Validation Accuracy: 0.94378465\n"
     ]
    }
   ],
   "source": [
    "logits = model(X_test, keep_prob=1.0)\n",
    "accuracy = compute_accuracy(logits, y_test)\n",
    "print(\"Validation Accuracy:\", accuracy.numpy())"
   ]
  },
  {
   "cell_type": "markdown",
   "metadata": {},
   "source": [
    "---\n",
    "\n",
    "## Step 3: Test a Model on New Images\n",
    "\n",
    "To give yourself more insight into how your model is working, download at least five pictures of German traffic signs from the web and use your model to predict the traffic sign type.\n",
    "\n",
    "You may find `signnames.csv` useful as it contains mappings from the class id (integer) to the actual sign name."
   ]
  },
  {
   "cell_type": "markdown",
   "metadata": {},
   "source": [
    "### Load and Output the Images"
   ]
  },
  {
   "cell_type": "code",
   "execution_count": null,
   "metadata": {},
   "outputs": [],
   "source": [
    "### Load the images and plot them here.\n",
    "### Feel free to use as many code cells as needed."
   ]
  },
  {
   "cell_type": "markdown",
   "metadata": {},
   "source": [
    "### Predict the Sign Type for Each Image"
   ]
  },
  {
   "cell_type": "code",
   "execution_count": null,
   "metadata": {},
   "outputs": [],
   "source": [
    "### Run the predictions here and use the model to output the prediction for each image.\n",
    "### Make sure to pre-process the images with the same pre-processing pipeline used earlier.\n",
    "### Feel free to use as many code cells as needed."
   ]
  },
  {
   "cell_type": "markdown",
   "metadata": {},
   "source": [
    "### Analyze Performance"
   ]
  },
  {
   "cell_type": "code",
   "execution_count": null,
   "metadata": {},
   "outputs": [],
   "source": [
    "### Calculate the accuracy for these 5 new images. \n",
    "### For example, if the model predicted 1 out of 5 signs correctly, it's 20% accurate on these new images."
   ]
  },
  {
   "cell_type": "markdown",
   "metadata": {},
   "source": [
    "### Output Top 5 Softmax Probabilities For Each Image Found on the Web"
   ]
  },
  {
   "cell_type": "markdown",
   "metadata": {},
   "source": [
    "For each of the new images, print out the model's softmax probabilities to show the **certainty** of the model's predictions (limit the output to the top 5 probabilities for each image). [`tf.nn.top_k`](https://www.tensorflow.org/versions/r0.12/api_docs/python/nn.html#top_k) could prove helpful here. \n",
    "\n",
    "The example below demonstrates how tf.nn.top_k can be used to find the top k predictions for each image.\n",
    "\n",
    "`tf.nn.top_k` will return the values and indices (class ids) of the top k predictions. So if k=3, for each sign, it'll return the 3 largest probabilities (out of a possible 43) and the correspoding class ids.\n",
    "\n",
    "Take this numpy array as an example. The values in the array represent predictions. The array contains softmax probabilities for five candidate images with six possible classes. `tf.nn.top_k` is used to choose the three classes with the highest probability:\n",
    "\n",
    "```\n",
    "# (5, 6) array\n",
    "a = np.array([[ 0.24879643,  0.07032244,  0.12641572,  0.34763842,  0.07893497,\n",
    "         0.12789202],\n",
    "       [ 0.28086119,  0.27569815,  0.08594638,  0.0178669 ,  0.18063401,\n",
    "         0.15899337],\n",
    "       [ 0.26076848,  0.23664738,  0.08020603,  0.07001922,  0.1134371 ,\n",
    "         0.23892179],\n",
    "       [ 0.11943333,  0.29198961,  0.02605103,  0.26234032,  0.1351348 ,\n",
    "         0.16505091],\n",
    "       [ 0.09561176,  0.34396535,  0.0643941 ,  0.16240774,  0.24206137,\n",
    "         0.09155967]])\n",
    "```\n",
    "\n",
    "Running it through `sess.run(tf.nn.top_k(tf.constant(a), k=3))` produces:\n",
    "\n",
    "```\n",
    "TopKV2(values=array([[ 0.34763842,  0.24879643,  0.12789202],\n",
    "       [ 0.28086119,  0.27569815,  0.18063401],\n",
    "       [ 0.26076848,  0.23892179,  0.23664738],\n",
    "       [ 0.29198961,  0.26234032,  0.16505091],\n",
    "       [ 0.34396535,  0.24206137,  0.16240774]]), indices=array([[3, 0, 5],\n",
    "       [0, 1, 4],\n",
    "       [0, 5, 1],\n",
    "       [1, 3, 5],\n",
    "       [1, 4, 3]], dtype=int32))\n",
    "```\n",
    "\n",
    "Looking just at the first row we get `[ 0.34763842,  0.24879643,  0.12789202]`, you can confirm these are the 3 largest probabilities in `a`. You'll also notice `[3, 0, 5]` are the corresponding indices."
   ]
  },
  {
   "cell_type": "code",
   "execution_count": null,
   "metadata": {},
   "outputs": [],
   "source": [
    "### Print out the top five softmax probabilities for the predictions on the German traffic sign images found on the web. \n",
    "### Feel free to use as many code cells as needed."
   ]
  },
  {
   "cell_type": "markdown",
   "metadata": {},
   "source": [
    "### Project Writeup\n",
    "\n",
    "Once you have completed the code implementation, document your results in a project writeup using this [template](https://github.com/udacity/CarND-Traffic-Sign-Classifier-Project/blob/master/writeup_template.md) as a guide. The writeup can be in a markdown or pdf file. "
   ]
  },
  {
   "cell_type": "markdown",
   "metadata": {},
   "source": [
    "> **Note**: Once you have completed all of the code implementations and successfully answered each question above, you may finalize your work by exporting the iPython Notebook as an HTML document. You can do this by using the menu above and navigating to  \\n\",\n",
    "    \"**File -> Download as -> HTML (.html)**. Include the finished document along with this notebook as your submission."
   ]
  },
  {
   "cell_type": "markdown",
   "metadata": {},
   "source": [
    "---\n",
    "\n",
    "## Step 4 (Optional): Visualize the Neural Network's State with Test Images\n",
    "\n",
    " This Section is not required to complete but acts as an additional excersise for understaning the output of a neural network's weights. While neural networks can be a great learning device they are often referred to as a black box. We can understand what the weights of a neural network look like better by plotting their feature maps. After successfully training your neural network you can see what it's feature maps look like by plotting the output of the network's weight layers in response to a test stimuli image. From these plotted feature maps, it's possible to see what characteristics of an image the network finds interesting. For a sign, maybe the inner network feature maps react with high activation to the sign's boundary outline or to the contrast in the sign's painted symbol.\n",
    "\n",
    " Provided for you below is the function code that allows you to get the visualization output of any tensorflow weight layer you want. The inputs to the function should be a stimuli image, one used during training or a new one you provided, and then the tensorflow variable name that represents the layer's state during the training process, for instance if you wanted to see what the [LeNet lab's](https://classroom.udacity.com/nanodegrees/nd013/parts/fbf77062-5703-404e-b60c-95b78b2f3f9e/modules/6df7ae49-c61c-4bb2-a23e-6527e69209ec/lessons/601ae704-1035-4287-8b11-e2c2716217ad/concepts/d4aca031-508f-4e0b-b493-e7b706120f81) feature maps looked like for it's second convolutional layer you could enter conv2 as the tf_activation variable.\n",
    "\n",
    "For an example of what feature map outputs look like, check out NVIDIA's results in their paper [End-to-End Deep Learning for Self-Driving Cars](https://devblogs.nvidia.com/parallelforall/deep-learning-self-driving-cars/) in the section Visualization of internal CNN State. NVIDIA was able to show that their network's inner weights had high activations to road boundary lines by comparing feature maps from an image with a clear path to one without. Try experimenting with a similar test to show that your trained network's weights are looking for interesting features, whether it's looking at differences in feature maps from images with or without a sign, or even what feature maps look like in a trained network vs a completely untrained one on the same sign image.\n",
    "\n",
    "<figure>\n",
    " <img src=\"visualize_cnn.png\" width=\"380\" alt=\"Combined Image\" />\n",
    " <figcaption>\n",
    " <p></p> \n",
    " <p style=\"text-align: center;\"> Your output should look something like this (above)</p> \n",
    " </figcaption>\n",
    "</figure>\n",
    " <p></p> \n"
   ]
  },
  {
   "cell_type": "code",
   "execution_count": null,
   "metadata": {},
   "outputs": [],
   "source": [
    "### Visualize your network's feature maps here.\n",
    "### Feel free to use as many code cells as needed.\n",
    "\n",
    "# image_input: the test image being fed into the network to produce the feature maps\n",
    "# tf_activation: should be a tf variable name used during your training procedure that represents the calculated state of a specific weight layer\n",
    "# activation_min/max: can be used to view the activation contrast in more detail, by default matplot sets min and max to the actual min and max values of the output\n",
    "# plt_num: used to plot out multiple different weight feature map sets on the same block, just extend the plt number for each new feature map entry\n",
    "\n",
    "def outputFeatureMap(image_input, tf_activation, activation_min=-1, activation_max=-1 ,plt_num=1):\n",
    "    # Here make sure to preprocess your image_input in a way your network expects\n",
    "    # with size, normalization, ect if needed\n",
    "    # image_input =\n",
    "    # Note: x should be the same name as your network's tensorflow data placeholder variable\n",
    "    # If you get an error tf_activation is not defined it may be having trouble accessing the variable from inside a function\n",
    "    activation = tf_activation.eval(session=sess,feed_dict={x : image_input})\n",
    "    featuremaps = activation.shape[3]\n",
    "    plt.figure(plt_num, figsize=(15,15))\n",
    "    for featuremap in range(featuremaps):\n",
    "        plt.subplot(6,8, featuremap+1) # sets the number of feature maps to show on each row and column\n",
    "        plt.title('FeatureMap ' + str(featuremap)) # displays the feature map number\n",
    "        if activation_min != -1 & activation_max != -1:\n",
    "            plt.imshow(activation[0,:,:, featuremap], interpolation=\"nearest\", vmin =activation_min, vmax=activation_max, cmap=\"gray\")\n",
    "        elif activation_max != -1:\n",
    "            plt.imshow(activation[0,:,:, featuremap], interpolation=\"nearest\", vmax=activation_max, cmap=\"gray\")\n",
    "        elif activation_min !=-1:\n",
    "            plt.imshow(activation[0,:,:, featuremap], interpolation=\"nearest\", vmin=activation_min, cmap=\"gray\")\n",
    "        else:\n",
    "            plt.imshow(activation[0,:,:, featuremap], interpolation=\"nearest\", cmap=\"gray\")"
   ]
  }
 ],
 "metadata": {
  "anaconda-cloud": {},
  "kernelspec": {
   "display_name": "Python 3 (ipykernel)",
   "language": "python",
   "name": "python3"
  },
  "language_info": {
   "codemirror_mode": {
    "name": "ipython",
    "version": 3
   },
   "file_extension": ".py",
   "mimetype": "text/x-python",
   "name": "python",
   "nbconvert_exporter": "python",
   "pygments_lexer": "ipython3",
   "version": "3.10.0"
  }
 },
 "nbformat": 4,
 "nbformat_minor": 4
}
